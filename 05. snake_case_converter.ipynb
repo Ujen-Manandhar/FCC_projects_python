{
 "cells": [
  {
   "cell_type": "markdown",
   "id": "4977691b",
   "metadata": {},
   "source": [
    "# snake_case_converter\n",
    "write a program that takes a string formatted in camelCase or PascalCase, then converts it into Snake Case.\n",
    "The project has two phases: first you'll use a for loop to implement the program. Then you'll learn how to use List Comprehension instead of a loop to achieve the same results."
   ]
  },
  {
   "cell_type": "code",
   "execution_count": 22,
   "id": "cad49b1e",
   "metadata": {},
   "outputs": [],
   "source": [
    "# create a function for case conversion without list Comprehension\n",
    "char = 'PascalCase'\n",
    "# the function takes only a single argument that is the char\n",
    "def case_converter(char):\n",
    "    converted = []\n",
    "    for letter in char:\n",
    "        # see if the char is upper \n",
    "        if letter.isupper():\n",
    "            # if the char is upper then '_' add with the lower of upper letter\n",
    "            upper = '_' + letter.lower()\n",
    "            converted.append(upper)\n",
    "        else:\n",
    "            converted.append(letter)\n",
    "    # as the converted is a list now the list is joined through .join(list) method and then the strip() method to clean '_' placed in begining and end \n",
    "    snake_case = ''.join(converted).strip('_')\n",
    "    return snake_case"
   ]
  },
  {
   "cell_type": "code",
   "execution_count": 23,
   "id": "e65131f9",
   "metadata": {},
   "outputs": [],
   "source": [
    "# now create a function for case conversion with list Comprehension\n",
    "def case_converter_list(char):\n",
    "    # using list comprehension \n",
    "    converted = [letter if letter.islower() else '_' + letter.lower() for letter in char]\n",
    "    '''\n",
    "    Approch 2\n",
    "     ['_' + letter.lower() if letter.isupper() \n",
    "         else letter\n",
    "        for letter in char\n",
    "        ]\n",
    "    '''\n",
    "    snake_case = ''.join(converted).strip('_')\n",
    "    return snake_case"
   ]
  },
  {
   "cell_type": "code",
   "execution_count": 24,
   "id": "5b77107a",
   "metadata": {},
   "outputs": [
    {
     "name": "stdout",
     "output_type": "stream",
     "text": [
      "The output from simple list ujen_man\n",
      "The output from list compherenshion ujen_man\n"
     ]
    }
   ],
   "source": [
    "user_input = input(\"Enter the case to be converted: \")\n",
    "char_list = case_converter_list(user_input)\n",
    "char = case_converter(user_input)\n",
    "\n",
    "print(f'The output from simple list {char}\\nThe output from list compherenshion {char_list}')"
   ]
  }
 ],
 "metadata": {
  "kernelspec": {
   "display_name": "Python 3 (ipykernel)",
   "language": "python",
   "name": "python3"
  },
  "language_info": {
   "codemirror_mode": {
    "name": "ipython",
    "version": 3
   },
   "file_extension": ".py",
   "mimetype": "text/x-python",
   "name": "python",
   "nbconvert_exporter": "python",
   "pygments_lexer": "ipython3",
   "version": "3.12.4"
  }
 },
 "nbformat": 4,
 "nbformat_minor": 5
}

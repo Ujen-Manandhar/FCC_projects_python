{
 "cells": [
  {
   "cell_type": "markdown",
   "id": "5f90026b",
   "metadata": {},
   "source": [
    "# Bisection Method by Finding the Square Root of a Number\n",
    "Numerical methods are used to approximate solutions to mathematical problems that are difficult or impossible to solve analytically.\n",
    "\n",
    "In this project, you will explore the numerical method of bisection to find the square root of a number by iteratively narrowing down the possible range of values that contain the square root."
   ]
  },
  {
   "cell_type": "code",
   "execution_count": 18,
   "id": "e4726e3c",
   "metadata": {},
   "outputs": [],
   "source": [
    "# define a function that takes in square target, tolerance , max_iterations\n",
    "def square_bisection(square_target, tolerance = 1e-7, max_iterations = 100):\n",
    "    # if square of the target is 1 we get 1\n",
    "    if square_target == 1:\n",
    "        return 1\n",
    "    # if square of the target is 0 we return 0 as square of 0 is 0\n",
    "    elif square_target == 0:\n",
    "        return 0\n",
    "    # for other numbers other than 1 and 0\n",
    "    else:\n",
    "        minium = 0\n",
    "        # the max function chooses between the argument to and returns the higgest number \n",
    "        maxium = max(1, square_target)\n",
    "        root = 0\n",
    "        count_it = 0\n",
    "\n",
    "        # now take the mid value of the min and max\n",
    "        for _ in range(max_iterations):\n",
    "            mid_value = (minium + maxium)/2\n",
    "            # now the mid value is square to check with the square target\n",
    "            square_mid = mid_value**2\n",
    "\n",
    "            # now replacing the values in each case if mid value is greater or smaller\n",
    "            # if the square of mid value minus square of the target will give the root value that is the mid value and it is given only when the difference is lower than tolerance \n",
    "            if abs(square_mid - square_target) < tolerance:\n",
    "                root = mid_value\n",
    "                break  \n",
    "            # if the squre of the mid is lower than the square of the target replace the minium or the minum square low value\n",
    "            elif square_mid < square_target:\n",
    "                minium = mid_value\n",
    "                count_it += 1\n",
    "            # if the square of the mid is greater than the square of the target replace the max of the square high value with the current mid value\n",
    "            else:\n",
    "                maxium = mid_value\n",
    "                count_it += 1\n",
    "            # doing this we are decreasing the points to go to the optimal root area\n",
    "        if root == 0:\n",
    "            print(f'\\nFailed to find the root of {square_target} at {max_iterations}')\n",
    "        \n",
    "        else:\n",
    "            print(f'\\nThe root of the {square_target} is {root} with iterations of {count_it}')\n",
    "        \n",
    "        return root, count_it\n"
   ]
  },
  {
   "cell_type": "code",
   "execution_count": 19,
   "id": "45ca3947",
   "metadata": {},
   "outputs": [
    {
     "name": "stdout",
     "output_type": "stream",
     "text": [
      "\n",
      "The root of the 116000 is 340.5877273184714 with iterations of 48\n"
     ]
    },
    {
     "data": {
      "text/plain": [
       "(340.5877273184714, 48)"
      ]
     },
     "execution_count": 19,
     "metadata": {},
     "output_type": "execute_result"
    }
   ],
   "source": [
    "square_bisection(116000)"
   ]
  }
 ],
 "metadata": {
  "kernelspec": {
   "display_name": "Python 3 (ipykernel)",
   "language": "python",
   "name": "python3"
  }
 },
 "nbformat": 4,
 "nbformat_minor": 5
}

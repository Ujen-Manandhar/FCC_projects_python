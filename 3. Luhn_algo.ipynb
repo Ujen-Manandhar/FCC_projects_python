{
 "cells": [
  {
   "cell_type": "markdown",
   "id": "d2307f7c-9d98-476f-a9ee-a5b25e684f8d",
   "metadata": {},
   "source": [
    "# Luhn Algorithm or Mod 10 Algo\n",
    "\n",
    "The Luhn Algorithm is widely used for error-checking in various applications, such as verifying credit card numbers.\n"
   ]
  },
  {
   "cell_type": "code",
   "execution_count": 15,
   "id": "d3f687c3-4726-4403-8e7d-64e1c1fe173e",
   "metadata": {},
   "outputs": [],
   "source": [
    "# Create a variable to take in user input of the card number\n",
    "\n",
    "card_number =input(\"Enter your card number: \") # '4111-1111-4555-1142'\n",
    "if (card_number.isdigit()) and ('-' in card_number):\n",
    "    card_number"
   ]
  },
  {
   "cell_type": "code",
   "execution_count": 16,
   "id": "42120efd",
   "metadata": {},
   "outputs": [],
   "source": [
    "# clean card '-' to remove dashes\n",
    "def  card_clean(card_number):\n",
    "    card_number = card_number.replace('-', '')\n",
    "    return card_number"
   ]
  },
  {
   "cell_type": "code",
   "execution_count": 17,
   "id": "42a7e972",
   "metadata": {},
   "outputs": [
    {
     "data": {
      "text/plain": [
       "'4111111145551143'"
      ]
     },
     "execution_count": 17,
     "metadata": {},
     "output_type": "execute_result"
    }
   ],
   "source": [
    "#now use the clean card to check valid or not \n",
    "card_clean = card_clean(card_number)\n",
    "card_clean"
   ]
  },
  {
   "cell_type": "markdown",
   "id": "a7383d3b",
   "metadata": {},
   "source": [
    "The Luhn algorithm is as follows:\n",
    "    From the right to left, double the value of every second digit; if the product is greater than 9, sum the digits of the products.\n",
    "    Take the sum of all the digits.\n",
    "    If the sum of all the digits is a multiple of 10, then the number is valid; else it is not valid.\n",
    "\n",
    "Assume an example of an account number \"7992739871\" that will have a check digit added, making it of the form 7992739871x\n",
    "x is the check digit "
   ]
  },
  {
   "cell_type": "code",
   "execution_count": 18,
   "id": "772b5777",
   "metadata": {},
   "outputs": [],
   "source": [
    "#create a luhn algorithm \n",
    "def verify_card(card_clean):\n",
    "    # as we go right to left so reversing the string\n",
    "    reversed_digit= card_clean[::-1]\n",
    "    # we need to double value of every second number so the odd is the same so we take out all odd digit\n",
    "    odd_digit = reversed_digit[::2]\n",
    "    # we need to sum all the digits so first sum the odd\n",
    "    sum_of_odd_digit = 0\n",
    "    for digit in odd_digit:\n",
    "        sum_of_odd_digit += int(digit)\n",
    "    \n",
    "    # we need to find the even digit in the string and double it \n",
    "    even_digit = reversed_digit[1::2]\n",
    "    # after doubling the even digit then the string is \n",
    "    sum_of_even_digit = 0\n",
    "    for digit in even_digit:\n",
    "        # double each digit\n",
    "        double_digit = int(digit)*2\n",
    "        # after doubling we need to check if the product is greater than 9\n",
    "        if double_digit >= 10:\n",
    "            # identify the first number which is given by quotient\n",
    "            begin_number = double_digit // 10\n",
    "            #identify the end number which is given by the remainder\n",
    "            end_number = double_digit % 10\n",
    "            # add the doube number >= 10 to the variable sum_of_even_digit\n",
    "            sum_of_even_digit += (begin_number+end_number)\n",
    "        else:\n",
    "            # add the double number < 10 to the variable sum_of_even_digit\n",
    "            sum_of_even_digit += double_digit\n",
    "    sum_of_card = sum_of_odd_digit+sum_of_even_digit\n",
    "    return sum_of_card\n",
    "    "
   ]
  },
  {
   "cell_type": "code",
   "execution_count": 19,
   "id": "5f1491e7",
   "metadata": {},
   "outputs": [
    {
     "name": "stdout",
     "output_type": "stream",
     "text": [
      "51\n"
     ]
    }
   ],
   "source": [
    "check = verify_card(card_clean)\n",
    "print(check)\n",
    "# a function to check if the card is valid \n",
    "def check_card(check):\n",
    "    # if the mod of the sum of the card is 0 or is divisible by 10 the output is valid\n",
    "    if (check % 10 == 0):\n",
    "        print('Valid')\n",
    "    # if the mod of the sum of the car isn't divisible by 10 the output is invalid\n",
    "    else:\n",
    "        print('Invalid')"
   ]
  },
  {
   "cell_type": "code",
   "execution_count": 20,
   "id": "da19ac9c",
   "metadata": {},
   "outputs": [
    {
     "name": "stdout",
     "output_type": "stream",
     "text": [
      "Invalid\n"
     ]
    }
   ],
   "source": [
    "# prints the validity\n",
    "check_card(check)"
   ]
  }
 ],
 "metadata": {
  "kernelspec": {
   "display_name": "Python 3 (ipykernel)",
   "language": "python",
   "name": "python3"
  },
  "language_info": {
   "codemirror_mode": {
    "name": "ipython",
    "version": 3
   },
   "file_extension": ".py",
   "mimetype": "text/x-python",
   "name": "python",
   "nbconvert_exporter": "python",
   "pygments_lexer": "ipython3",
   "version": "3.12.4"
  }
 },
 "nbformat": 4,
 "nbformat_minor": 5
}

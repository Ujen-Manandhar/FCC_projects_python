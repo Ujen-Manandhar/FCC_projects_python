{
 "cells": [
  {
   "cell_type": "markdown",
   "id": "c507e4bd",
   "metadata": {},
   "source": [
    "# Expense Tracker\n",
    "Lambda functions give you a concise way to write small, throwaway functions in your code.\n",
    "\n",
    "In this project, you'll explore the power of Lambda Functions by creating an expense tracker. Your resulting app will demonstrate how you can use Lambda Functions for efficient, streamlined operations."
   ]
  },
  {
   "cell_type": "code",
   "execution_count": 1,
   "id": "c1438a80",
   "metadata": {},
   "outputs": [
    {
     "data": {
      "text/plain": [
       "\"\\nCreate an expense tracker that \\nprint('1. Add an expense')\\nprint('2. List all expenses')\\nprint('3. Show total expenses')\\nprint('4. Filter expenses by category')\\nprint('5. Exit')\\n\""
      ]
     },
     "execution_count": 1,
     "metadata": {},
     "output_type": "execute_result"
    }
   ],
   "source": [
    "'''\n",
    "Create an expense tracker that \n",
    "print('1. Add an expense')\n",
    "print('2. List all expenses')\n",
    "print('3. Show total expenses')\n",
    "print('4. Filter expenses by category')\n",
    "print('5. Exit')\n",
    "'''"
   ]
  },
  {
   "cell_type": "code",
   "execution_count": 2,
   "id": "4606b2f3",
   "metadata": {},
   "outputs": [],
   "source": [
    "# create a function that add expenses to a list\n",
    "# the function takes in a list, amount and category\n",
    "def add_function(expenses, amount, category):\n",
    "    # append the amount and category to the list where the variable will be stored in a dictionary as the expenses will be stored of a particular expense \n",
    "    expenses.append({'amount' : amount , 'category' : category}) \n",
    "\n",
    "# add_function(expenses, 1000, \"coke\")\n",
    "# add_function(expenses, 1000, \"fanta\")\n",
    "# add_function(expenses, 1000, \"coke\")\n",
    "# print(expenses)\n",
    "# output >> [{'amount': 1000, 'category': 'coke'}, {'amount': 1000, 'category': 'fanta'}, {'amount': 1000, 'category': 'coke'}]"
   ]
  },
  {
   "cell_type": "code",
   "execution_count": 3,
   "id": "06ab5773",
   "metadata": {},
   "outputs": [],
   "source": [
    "# the function focuses upon the second function of the program to list all the expenses in the list\n",
    "def list_expenses(expenses):\n",
    "    for expense in expenses:\n",
    "        print(f'\\nCategory : {expense['category']} , Amount : {expense['amount']}')\n",
    "\n",
    "# output >> \n",
    "# Category : coke , Amount : 1000\n",
    "# Category : fanta , Amount : 1000\n",
    "# Category : coke , Amount : 1000"
   ]
  },
  {
   "cell_type": "code",
   "execution_count": 4,
   "id": "f6af696b",
   "metadata": {},
   "outputs": [],
   "source": [
    "# function to show the total expenses of the list using lamda function \n",
    "def total_expense(expenses):\n",
    "    # map function takes the iterable and replace the argument as per the iterable in the function and gives output as an object which needs to be converted into a list\n",
    "    # here the lambda function takes the iterable of each item of the dictionary\n",
    "    return sum((map(lambda expenses : expenses['amount'], expenses)))\n",
    "    # firstly the map function gives the list of amount in the dictionary and then the list function converts the obj and finally the sum function sums the list up \n",
    "\n",
    "# la = list(map(lambda x : x*2, [1,2]))\n",
    "# print(la) # output [2, 4]"
   ]
  },
  {
   "cell_type": "code",
   "execution_count": 5,
   "id": "dec438dd",
   "metadata": {},
   "outputs": [],
   "source": [
    "# create filter expenses by category \n",
    "expenses = [{'amount': 1000, 'category': 'coke'}, {'amount': 1000, 'category': 'coke'}] #the function takes in this type of dict in expenses argument\n",
    "def filter_expenses(expenses, category):\n",
    "    # Filter takes all objects in a list and runs that through a function to create a new list with all objects that return True in that function \n",
    "    # filter is different from map because filter returns the value which are true while the map returns either true or false\n",
    "    return list(filter(lambda expenses : expenses['category'] == category, expenses))\n",
    "    # returns a filter list of dict with amount and the category of the category mention\n",
    "    # output when coke is the category >> \n",
    "    # [{'amount': 1000, 'category': 'coke'}, {'amount': 1000, 'category': 'coke'}]\n",
    "\n",
    "# filter = list(filter(lambda x : x == 1, [1,2])) # output [1]\n",
    "# map = list(map(lambda x : x == 1, [1,2])) # output [False, True]"
   ]
  },
  {
   "cell_type": "code",
   "execution_count": 6,
   "id": "c8be3738",
   "metadata": {},
   "outputs": [
    {
     "name": "stdout",
     "output_type": "stream",
     "text": [
      "\n",
      "Expense Tracker\n",
      "1. Add expense\n",
      "2. Show all expenses\n",
      "3. Total of all expenses\n",
      "4. Filter on the basis of Category\n",
      "5. End the expense tracker\n"
     ]
    },
    {
     "name": "stdout",
     "output_type": "stream",
     "text": [
      "\n",
      "Amount: 1000.0, Category: Coke\n",
      "\n",
      "Expense Tracker\n",
      "1. Add expense\n",
      "2. Show all expenses\n",
      "3. Total of all expenses\n",
      "4. Filter on the basis of Category\n",
      "5. End the expense tracker\n",
      "\n",
      "Amount: 1000.0, Category: Coke\n",
      "\n",
      "Expense Tracker\n",
      "1. Add expense\n",
      "2. Show all expenses\n",
      "3. Total of all expenses\n",
      "4. Filter on the basis of Category\n",
      "5. End the expense tracker\n",
      "\n",
      "Amount: 1000.0, Category: Coke\n",
      "Amount Can only be a number\n",
      "\n",
      "Amount: 1000.0, Category: Fanta\n",
      "\n",
      "Expense Tracker\n",
      "1. Add expense\n",
      "2. Show all expenses\n",
      "3. Total of all expenses\n",
      "4. Filter on the basis of Category\n",
      "5. End the expense tracker\n",
      "\n",
      "Finding expenses of this Coke\n",
      "\n",
      "Category : Coke , Amount : 1000.0\n",
      "\n",
      "Category : Coke , Amount : 1000.0\n",
      "\n",
      "The total of Category : Coke is Amount: 2000.0\n",
      "\n",
      "Expense Tracker\n",
      "1. Add expense\n",
      "2. Show all expenses\n",
      "3. Total of all expenses\n",
      "4. Filter on the basis of Category\n",
      "5. End the expense tracker\n",
      "Exiting the program........\n"
     ]
    }
   ],
   "source": [
    "#now creating a main function that implements all the above function an the whole function will depend upon this function\n",
    "def main():\n",
    "    # the expenses list will store all the expenses added from the 1\n",
    "    expenses = []\n",
    "    # the wild loop is run as we don't know when the program will end\n",
    "    while True:\n",
    "        # guides the user in selecting any one of the program \n",
    "        print('\\nExpense Tracker')\n",
    "        print('1. Add expense')\n",
    "        print('2. Show all expenses')\n",
    "        print('3. Total of all expenses')\n",
    "        print('4. Filter on the basis of Category')\n",
    "        print('5. End the expense tracker')\n",
    "\n",
    "        # choice of the user\n",
    "        user_input = input('Enter your choice: ')\n",
    "\n",
    "        #condition on the basis of the user\n",
    "        if user_input == '1':\n",
    "            while True:\n",
    "                try:\n",
    "                    amount = float(input('Enter the amount of the expense: '))\n",
    "                    user_category = input('Enter the Category of your expense: ')\n",
    "                    category = user_category.title().strip(' ')\n",
    "                    print(f'\\nAmount: {amount}, Category: {category}')\n",
    "                    yes_no = input('Are the amount and category enter are correct? (y/n) ').lower()\n",
    "                    if yes_no == 'y' or yes_no == \"yes\":\n",
    "                        add_function(expenses, amount, category)\n",
    "                        break\n",
    "                    elif yes_no == 'n' or yes_no == \"no\":\n",
    "                        continue\n",
    "                except:\n",
    "                    print(\"Amount Can only be a number\")\n",
    "                    continue\n",
    "\n",
    "        # print the user expenses\n",
    "        if user_input == '2':\n",
    "            print('\\nListing all the expenses: ')\n",
    "            list_expenses(expenses)\n",
    "        \n",
    "        # total of all expenses\n",
    "        if user_input == '3':\n",
    "            total = total_expense(expenses)\n",
    "            print(f'\\nThe total expenses were {total}')\n",
    "        \n",
    "        # filter the expenses\n",
    "        if user_input == '4':\n",
    "            #identify the category of to filter\n",
    "            category = input('Enter the filter Category: ')\n",
    "            print(f'\\nFinding expenses of this {category}')\n",
    "            # function call\n",
    "            expenses_filter = filter_expenses(expenses, category)\n",
    "            # get the filter list and store in varaiable expenses_filter\n",
    "            # {'amount': 1000, 'category': 'coke'}, {'amount': 1000, 'category': 'coke'}]\n",
    "            #caling the function to print the expenses \n",
    "            list_expenses(expenses_filter)\n",
    "            total_filter = total_expense(expenses_filter)\n",
    "            print(f'\\nThe total of Category : {category} is Amount: {total_filter}')\n",
    "            # print the total of the expenses \n",
    "\n",
    "        # end the loop\n",
    "        if user_input == '5':\n",
    "            print(\"Exiting the program........\")\n",
    "            break\n",
    "\n",
    "\n",
    "\n",
    "main()"
   ]
  }
 ],
 "metadata": {
  "kernelspec": {
   "display_name": "Python 3 (ipykernel)",
   "language": "python",
   "name": "python3"
  },
  "language_info": {
   "codemirror_mode": {
    "name": "ipython",
    "version": 3
   },
   "file_extension": ".py",
   "mimetype": "text/x-python",
   "name": "python",
   "nbconvert_exporter": "python",
   "pygments_lexer": "ipython3",
   "version": "3.12.4"
  }
 },
 "nbformat": 4,
 "nbformat_minor": 5
}

{
 "cells": [
  {
   "cell_type": "markdown",
   "metadata": {},
   "source": [
    "#### Regular expression Password Generator \n",
    "<p>learn how to use Regular Expressions by building your own password generator program.</p>\n",
    "<hr>\n",
    "<p>It is a common convention to place import statements at the top of your code. And additionally, in case of multiple import statements, sort them in alphabetical order to improve readability.</p>\n",
    "\n"
   ]
  },
  {
   "cell_type": "code",
   "execution_count": 1,
   "metadata": {},
   "outputs": [],
   "source": [
    "import random\n",
    "import re # regular expressions \n",
    "import secrets\n",
    "import string"
   ]
  },
  {
   "cell_type": "markdown",
   "metadata": {},
   "source": [
    "<p>You can access the utilities defined inside the imported module through the dot notation. The dot notation works by appending a dot followed by the utility name to the module name</p>\n",
    "```\n",
    "string.ascii_lowercases\n",
    "```"
   ]
  },
  {
   "cell_type": "code",
   "execution_count": 3,
   "metadata": {},
   "outputs": [
    {
     "name": "stdout",
     "output_type": "stream",
     "text": [
      "abcdefghijklmnopqrstuvwxyzABCDEFGHIJKLMNOPQRSTUVWXYZ0123456789!\"#$%&'()*+,-./:;<=>?@[\\]^_`{|}~\n"
     ]
    }
   ],
   "source": [
    "# contains all the lower and upper case lettes \n",
    "letters = string.ascii_letters \n",
    "# number from 0-9\n",
    "digits = string.digits\n",
    "# puncuation all the special characters\n",
    "#!\"#$%&'()*+,-./:;<=>?@[\\]^_`{|}~\n",
    "symbol = string.punctuation\n",
    "\n",
    "# Combine all characters\n",
    "all_characters = letters + digits + symbol\n",
    "print(all_characters)"
   ]
  },
  {
   "cell_type": "markdown",
   "metadata": {},
   "source": [
    "The random module contains a pseudo-random number generator. Most of its functionalities depend on the random() function, which returns a floating point number in the range between 0.0 (inclusive) and 1.0 (exclusive).\n"
   ]
  },
  {
   "cell_type": "code",
   "execution_count": 6,
   "metadata": {},
   "outputs": [
    {
     "name": "stdout",
     "output_type": "stream",
     "text": [
      "0.6366405882903674\n"
     ]
    }
   ],
   "source": [
    "print(random.random())"
   ]
  },
  {
   "cell_type": "markdown",
   "metadata": {},
   "source": [
    "The choice() function from the random module takes a sequence and returns a random item of the sequence. \n",
    "<p>Every time the code runs, you should see a random character from the all_characters string. This is exactly what you want to achieve to create a random password.</p>\n",
    "\n",
    "<p>However, the algorithm on which random relies makes the generated pseudo-random numbers predictable. Therefore, although the random module is suitable for the most common applications, it cannot be used for cryptographic purposes, due to its deterministic nature.Instead of importing random, import the secrets module.</p>\n",
    "\n",
    "<p>Although the effect might seem equal to random.choice(), secrets ensure you the most secure source of randomness that your operating system can provide.</p>"
   ]
  },
  {
   "cell_type": "code",
   "execution_count": 7,
   "metadata": {},
   "outputs": [
    {
     "name": "stdout",
     "output_type": "stream",
     "text": [
      "y\n"
     ]
    }
   ],
   "source": [
    "print(secrets.choice(all_characters))"
   ]
  },
  {
   "cell_type": "markdown",
   "metadata": {},
   "source": [
    "<p>use the addition assignment operator to add a random character from all_characters to the current value of password. Use the choice() function from the secrets module for that.</p>\n",
    "<p>A standalone single underscore is used to represent a value you don't care or that won't be used in your code. Your iteration variable is not actually used. (convention)</p>\n"
   ]
  },
  {
   "cell_type": "code",
   "execution_count": 10,
   "metadata": {},
   "outputs": [
    {
     "name": "stdout",
     "output_type": "stream",
     "text": [
      "Mr|/1P8cq`ao3PfJ\n"
     ]
    }
   ],
   "source": [
    "# password appended \n",
    "password = ''\n",
    "\n",
    "length = int(input('Enter the length: '))\n",
    "# generate password for the length\n",
    "for _ in range(length):\n",
    "    password += secrets.choice(all_characters) \n",
    "print(password) # generates a inputed length letter password "
   ]
  },
  {
   "cell_type": "markdown",
   "metadata": {},
   "source": [
    "<p>It seems all fine, but it would be nice to have a way to check that the generated password complies to specific features. For example, a minimum number of special characters, digits, or uppercase/lowercase letters.</p>\n",
    "<p>Last part <br/>\n",
    "<br/>\n",
    "Having all([expression for i in iterable]), means that a new list is created by evaluating expression for each i in iterable. After the all() function iterates over the newly created list, the list is deleted automatically, since it is no longer needed.<br/>\n",
    "<br/>\n",
    "Memory can be saved by using a generator expression. Generator expressions follow the syntax of list comprehensions but they use parentheses instead of square brackets.<br/>\n",
    "<br/>\n",
    "Change your list comprehension into a generator expression by removing the square brackets.<br/>\n",
    "</p>"
   ]
  },
  {
   "cell_type": "code",
   "execution_count": 6,
   "metadata": {},
   "outputs": [
    {
     "name": "stdout",
     "output_type": "stream",
     "text": [
      "zuT-,uyx\n",
      "<77}*z@I\n"
     ]
    }
   ],
   "source": [
    "# mentioning the minium requirement for the password\n",
    "nums = 1\n",
    "special_chars = 1\n",
    "uppercase = 1\n",
    "lowercase = 1\n",
    "length = 8\n",
    "# using a wild loop than a for loop to continue until the specific condition are met\n",
    "for i in range(2):\n",
    "    password = ''\n",
    "    for _ in range(length):\n",
    "        password += secrets.choice(all_characters)\n",
    "    \n",
    "    # Your constraints list is going to store tuples. \n",
    "    # The first item of each tuple will be a constraint parameter.\n",
    "    constraints = [\n",
    "        (nums, r'[0-9]'),# uses regx char class # can also use \\d\n",
    "        (lowercase, r'[a-z]'),\n",
    "        (uppercase, r'[A-Z]'),\n",
    "        (special_chars, fr'{[symbol]}') # [^a-zA-Z0-9] but _ isn't consider in \\W\n",
    "    ]\n",
    "\n",
    "    #Instead of using a loop and a counter variable, you can achieve the same result with a different approach\n",
    "    # count = 0\n",
    "    # for constraint, pattern in constraints:\n",
    "    #     # interested in the number of elements in the list returned by the findall() function.\n",
    "    #     if constraint <= len(re.findall(pattern, password)):\n",
    "    #         count += 1\n",
    "    \n",
    "    # if count == 4:\n",
    "    #     break\n",
    "\n",
    "    # all() is a built-in Python function that returns True if all the elements inside a given iterable evaluate to True.\n",
    "    # Otherwise, it returns False.\n",
    "    \n",
    "    # Right now, all() is taking an empty list as the argument. \n",
    "    # Populate that empty list using the comprehension syntax so that the list stores \n",
    "    # the results of evaluating the expression constraint <= len(re.findall(pattern, password)) \n",
    "    # for each constraint-pattern tuple in the constraints list.\n",
    "    \n",
    "    if  all(constraint <= len(re.findall(pattern, password)) for constraint, pattern in constraints ): #generator expression\n",
    "        break\n",
    "    print(password)\n",
    "\n"
   ]
  },
  {
   "cell_type": "code",
   "execution_count": null,
   "metadata": {},
   "outputs": [
    {
     "name": "stdout",
     "output_type": "stream",
     "text": [
      "2\n",
      "[0-9]\n",
      "2\n",
      "[a-z]\n",
      "2\n",
      "[A-Z]\n",
      "2\n",
      "['!\"#$%&\\'()*+,-./:;<=>?@[\\\\]^_`{|}~']\n"
     ]
    }
   ],
   "source": [
    "constraints = [\n",
    "        (nums, r'[0-9]'),# uses regx char class # can also use \\d\n",
    "        (lowercase, r'[a-z]'),\n",
    "        (uppercase, r'[A-Z]'),\n",
    "        (special_chars, fr'{[symbol]}') # [^a-zA-Z0-9] but _ isn't consider in \\W\n",
    "    ]\n",
    "\n",
    "for constraint, pattern in constraints:\n",
    "    print(constraint)\n",
    "    print(pattern)"
   ]
  },
  {
   "cell_type": "markdown",
   "metadata": {},
   "source": [
    "<p>A regular expression, or regex, is a pattern used to match a specific combination of characters inside a string. It is a valid alternative to if/else conditional statements when you need to match or find patterns inside a string for validation purposes, character replacement, and others.</p>\n",
    "<p>The compile() function from the re module compiles the string passed as the argument into a regular expression object that can be used by other re methods.</p>\n",
    "<p>The search() function from the re module analyzes the string passed as the argument looking for the first place where the regex pattern matches the string.</p>\n"
   ]
  },
  {
   "cell_type": "code",
   "execution_count": null,
   "metadata": {},
   "outputs": [
    {
     "name": "stdout",
     "output_type": "stream",
     "text": [
      "None\n",
      "<re.Match object; span=(5, 6), match='l'>\n",
      "<re.Match object; span=(5, 7), match='ll'>\n",
      "<re.Match object; span=(5, 7), match='ll'>\n"
     ]
    }
   ],
   "source": [
    "pattern = re.compile('i')\n",
    "quote = 'Not all those who wander are lost.'\n",
    "print(pattern.search(quote))\n",
    "# The value None is returned since 'i' is not found inside the parsed string.\n",
    "\n",
    "# in case of 'l'\n",
    "# <re.Match object; span=(5, 6), match='l'>\n",
    "pattern = re.compile('l')\n",
    "print(pattern.search(quote))\n",
    "\n",
    "# the output, now your regex matches the first 'l' inside the string.\n",
    "# In your pattern, you can add a quantifier after a character to specify how many times that character should be repeated.\n",
    "# For example, the + quantifier means it should repeat one or more times.\n",
    "pattern = re.compile('l+')\n",
    "print(pattern.search(quote))\n",
    "\n",
    "# without compile function\n",
    "pattern = 'l+'\n",
    "print(re.search(pattern, quote))"
   ]
  },
  {
   "cell_type": "markdown",
   "metadata": {},
   "source": [
    "<p>To check that the generated password meets the required features, you are going to use the findall() function from the re module. It's similar to search but it returns a list with all the occurrences of the matched pattern.</p>"
   ]
  },
  {
   "cell_type": "code",
   "execution_count": null,
   "metadata": {},
   "outputs": [
    {
     "name": "stdout",
     "output_type": "stream",
     "text": [
      "['ll', 'l']\n"
     ]
    }
   ],
   "source": [
    "print(re.findall(pattern, quote))"
   ]
  },
  {
   "cell_type": "markdown",
   "metadata": {},
   "source": [
    "<p>A character class is indicated by square brackets and matches one character among those specified between the brackets. For example, ma[dnt] matches either mad, man, or mat.</p>"
   ]
  },
  {
   "cell_type": "code",
   "execution_count": null,
   "metadata": {},
   "outputs": [
    {
     "name": "stdout",
     "output_type": "stream",
     "text": [
      "['wh', 'wa']\n"
     ]
    }
   ],
   "source": [
    "pattern = re.compile('w[ha]')\n",
    "quote = 'Not all those who wander are lost.'\n",
    "print(re.findall(pattern, quote))"
   ]
  },
  {
   "cell_type": "markdown",
   "metadata": {},
   "source": [
    "<p>Character classes also allow you to indicate a range of characters to match. You need to specify the starting and the ending characters separated by an hyphen, -. Characters follow the Unicode order.</p>"
   ]
  },
  {
   "cell_type": "code",
   "execution_count": null,
   "metadata": {},
   "outputs": [
    {
     "name": "stdout",
     "output_type": "stream",
     "text": [
      "['ot', 'st']\n",
      "Using the ^ :  [' t']\n",
      "Using .+ : ['Not all those who wander are lost.']\n",
      "Using the back slash character: ['.']\n"
     ]
    },
    {
     "name": "stderr",
     "output_type": "stream",
     "text": [
      "<>:20: SyntaxWarning: invalid escape sequence '\\.'\n",
      "<>:20: SyntaxWarning: invalid escape sequence '\\.'\n",
      "/var/folders/2w/6wdtvqmj2gv_1lkm7fzp74qc0000gp/T/ipykernel_1454/31031482.py:20: SyntaxWarning: invalid escape sequence '\\.'\n",
      "  pattern = '\\.'\n"
     ]
    }
   ],
   "source": [
    "pattern = '[a-z]t'\n",
    "quote = 'Not all those who wander are lost.'\n",
    "print(re.findall(pattern, quote))\n",
    "\n",
    "# The caret, ^, placed at the beginning of the character class, matches all the characters \n",
    "# except those specified in the class. If in a class the ^ ignores all the letter in characters class\n",
    "pattern = '[^a-z]t'\n",
    "quote = 'Not all those who wander are lost.'\n",
    "print('Using the ^ : ',re.findall(pattern, quote))\n",
    "\n",
    "# The dot character is a wildcard that matches any character in a string — except for a newline character by default.\n",
    "# Modify pattern to match the entire string by replacing the current pattern with a . followed by the + quantifier.\n",
    "pattern = '.+'\n",
    "print('Using .+ :', re.findall(pattern,quote)) # if a new line appers then it becomes another item in the list \n",
    "\n",
    "# If you need to match a character that has a special meaning in the pattern, such as . or +, \n",
    "# you can escape it by prepending a backslash character, \\. \n",
    "# For example, this matches a literal plus sign: \\+.\n",
    "\n",
    "pattern = '\\.'\n",
    "print('Using the back slash character:', re.findall(pattern,quote)) # ['.']\n"
   ]
  },
  {
   "cell_type": "markdown",
   "metadata": {},
   "source": [
    "<p>Python provides a particular type of string called raw string. Raw strings are prefixed with a r. The key distinction from regular strings lies in how they handle the backslash character: in raw strings, backslashes are treated as literal characters rather than escape characters. When writing regular expressions, using raw strings is a good practice, since they can usually contain a lot of \\ characters. As if raw strings aren't used then re module can't find the spefic characters.</p>\n",
    "\n",
    "<p>In a character class, you can combine multiple ranges by writing one range after another inside the square brackets (without any additional characters). For example: [a-d3-6] is the combination of [a-d] and [3-6].</p>\n",
    "\n",
    "<p>In the same way the [0-9] class is equivalent to \\d, the [^0-9] class is equivalent to \\D. Alphanumeric characters can be matched with \\w and non-alphanumeric characters can be matched with \\W.</p>\n",
    "\n",
    "<p>Since the underscore character is a valid character for variable names, it is included in the \\w character class (equivalent to [a-zA-Z0-9_]), which can be conveniently used to match variable names.<br/><br/>\n",
    "Therefore, the \\W character class is equivalent to [^a-zA-Z0-9_] with the underscore character that is not matched. For this reason you cannot use it to match all your special characters.</p>"
   ]
  },
  {
   "cell_type": "code",
   "execution_count": null,
   "metadata": {},
   "outputs": [
    {
     "name": "stdout",
     "output_type": "stream",
     "text": [
      "['.']\n"
     ]
    }
   ],
   "source": [
    "pattern = r'\\.'\n",
    "quote = 'Not all those who wander are lost.'\n",
    "print(re.findall(pattern, quote))\n",
    "\n",
    "pattern = r'\\W'\n",
    "quote = '_'\n",
    "print(re.findall(pattern, quote)) #[]\n"
   ]
  },
  {
   "cell_type": "markdown",
   "metadata": {},
   "source": [
    "<pr>It works, but there are still a couple of things you can improve. First of all, calling a function with 5 arguments can create confusion on which value will be assigned to which parameter.<pr/>\n",
    "\n",
    "<pr>You can call a function using keyword arguments, that is writing the parameter name explicitly followed by the assignment operator and the value. For example:<pr/>\n",
    "Example Code<br/>\n",
    "<br/>\n",
    "def add(x, y):<br/>\n",
    "    return x + y<br/>\n",
    "<br/>\n",
    "add(x=1, y=7) # 8<br/>\n",
    "As long as all the arguments in a function call are keyword arguments, the order of the arguments doesn't matter.<br/>\n",
    "<p>When you combine default arguments with keyword arguments, you are able to explicitly pass fewer arguments than those required by the function. The arguments that are not explicitly passed to the function call will take their default values.</p>\n",
    "new_password = generate_password(nums=1, length=8, special_chars=1, uppercase=1, lowercase=1)"
   ]
  },
  {
   "cell_type": "code",
   "execution_count": null,
   "metadata": {},
   "outputs": [],
   "source": [
    "# main function body \n",
    "def generate_password(length):\n",
    "    # Define the possible characters for the password\n",
    "    \n",
    "    # Combine all characters\n",
    "\n",
    "    # Password generated to be concated\n",
    "\n",
    "    # Generated password as per the length given by the user \n",
    "\n",
    "\n",
    "    pass"
   ]
  },
  {
   "cell_type": "markdown",
   "metadata": {},
   "source": [
    "<p>Finally, put the last two lines of your code inside an if statement that execute when __name__ == '__main__'. In this way, your code won't run when imported as a module. Otherwise, it will call generate_password() and print the generated password.</p>\n"
   ]
  },
  {
   "cell_type": "code",
   "execution_count": 1,
   "metadata": {},
   "outputs": [
    {
     "name": "stdout",
     "output_type": "stream",
     "text": [
      "['10:04']\n"
     ]
    }
   ],
   "source": [
    "hours = 10\n",
    "mini = 4\n",
    "lis = []\n",
    "lis.append(f'{hours}:0{mini}')\n",
    "print(lis)"
   ]
  }
 ],
 "metadata": {
  "kernelspec": {
   "display_name": ".venv",
   "language": "python",
   "name": "python3"
  },
  "language_info": {
   "codemirror_mode": {
    "name": "ipython",
    "version": 3
   },
   "file_extension": ".py",
   "mimetype": "text/x-python",
   "name": "python",
   "nbconvert_exporter": "python",
   "pygments_lexer": "ipython3",
   "version": "3.12.4"
  }
 },
 "nbformat": 4,
 "nbformat_minor": 2
}

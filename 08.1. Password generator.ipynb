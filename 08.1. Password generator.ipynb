{
 "cells": [
  {
   "cell_type": "code",
   "execution_count": 2,
   "metadata": {},
   "outputs": [],
   "source": [
    "# importing libaries\n",
    "import re\n",
    "import secrets\n",
    "import string"
   ]
  },
  {
   "cell_type": "code",
   "execution_count": 3,
   "metadata": {},
   "outputs": [],
   "source": [
    "# function to generate password\n",
    "def generate_password(length, num=1, lower = 1, upper = 1, special = 1):\n",
    "\n",
    "    # define all the character needed \n",
    "    digit = string.digits\n",
    "    lowercase = string.ascii_lowercase\n",
    "    uppercase = string.ascii_uppercase\n",
    "    special_char = string.punctuation\n",
    "    \n",
    "    # variable that contain all the character\n",
    "    all_char = digit+lowercase+uppercase+special_char\n",
    "\n",
    "    # password = ''\n",
    "    # create a simple password generator \n",
    "    # for _ in range(length): # length random 15 -> Z_8~(auEwtSWf*_\n",
    "    #     password += secrets.choice(all_char)\n",
    "    \n",
    "    # when constrains are required with a minium char then \n",
    "    # we create a wild loop that ends if all the char in the password are applicable to the constraints\n",
    "    while True: \n",
    "        password = ''\n",
    "        for _ in range(length):\n",
    "            password += secrets.choice(all_char)\n",
    "        \n",
    "        constraints = [\n",
    "            # the constrains will be in a tuple (needed constrainsts, regular expression to check the constrains in password)\n",
    "            (num, r'[0-9]'),\n",
    "            (lower, r'[a-z]'),\n",
    "            (upper, r'[A-Z]'), \n",
    "            (special, fr'[{special_char}]') \n",
    "            # f sting an raw string used as it uses the variable special_char so f string helps to create strings with variable \n",
    "            # And also list is used to denote character class of re expression\n",
    "            # character classes are string containg list \n",
    "            # '[!\"#$%&\\'()*+,-./:;<=>?@[\\\\]^_`{|}~]' <- here inside a list the array exist\n",
    "        ]\n",
    "        # count = 0\n",
    "        # for constraint, pattern in constraints:\n",
    "        #     if constraint >= len(re.findall(pattern, password)):\n",
    "        #         count +=1\n",
    "        # if count == 4:\n",
    "        #     break\n",
    "\n",
    "        # the above code can also be written more efficiently as \n",
    "        if all(\n",
    "            len(re.findall(pattern, password)) >= constraint for constraint , pattern in constraints\n",
    "        ):\n",
    "            return password\n",
    "        # rather than using the break we use the return function to terminate the loops"
   ]
  },
  {
   "cell_type": "code",
   "execution_count": 9,
   "metadata": {},
   "outputs": [
    {
     "name": "stdout",
     "output_type": "stream",
     "text": [
      "New Password of length 16 is:\n",
      "v\"o@;P.vf]%[:90*\n"
     ]
    }
   ],
   "source": [
    "if __name__ == '__main__':\n",
    "    password = generate_password(length= 16)\n",
    "    print(f'New Password of length {len(password)} is:\\n{password}')"
   ]
  },
  {
   "cell_type": "markdown",
   "metadata": {},
   "source": []
  }
 ],
 "metadata": {
  "kernelspec": {
   "display_name": ".venv",
   "language": "python",
   "name": "python3"
  },
  "language_info": {
   "codemirror_mode": {
    "name": "ipython",
    "version": 3
   },
   "file_extension": ".py",
   "mimetype": "text/x-python",
   "name": "python",
   "nbconvert_exporter": "python",
   "pygments_lexer": "ipython3",
   "version": "3.12.4"
  }
 },
 "nbformat": 4,
 "nbformat_minor": 2
}

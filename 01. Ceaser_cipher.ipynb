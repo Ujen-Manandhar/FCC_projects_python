{
 "cells": [
  {
   "cell_type": "markdown",
   "id": "5f10d228-209d-4941-b59d-b24fb259b4c1",
   "metadata": {},
   "source": [
    "# Ceaser Cipher"
   ]
  },
  {
   "cell_type": "code",
   "execution_count": 8,
   "id": "8f4de291-a6e2-43db-9ebc-0e73613b81bf",
   "metadata": {},
   "outputs": [
    {
     "name": "stdout",
     "output_type": "stream",
     "text": [
      " Hello World\n"
     ]
    }
   ],
   "source": [
    "text = input ()\n",
    "shift = 3\n",
    "# the Chipher takes in an input from the user and also shifts the letter to chiper"
   ]
  },
  {
   "cell_type": "code",
   "execution_count": 9,
   "id": "d81bfb80-9b30-441f-94ea-5e1ff362f62d",
   "metadata": {},
   "outputs": [],
   "source": [
    "# create a function for the chiper with two arguments \n",
    "def ceaser(message, offset):\n",
    "    #required alphabet and encrypted text to store \n",
    "    alphabet = 'abcdefghijklmnopqrstuvwxyz'\n",
    "    encrypted_text = ''\n",
    "    \n",
    "    # iterating through the text to find the index of the char in alphabet and shift it as per the offset\n",
    "    for char in text.lower():\n",
    "        # accounting for spaces \n",
    "        if char == ' ':\n",
    "            encrypted_text = encrypted_text + char\n",
    "        else:\n",
    "            index_char = alphabet.find(char) # find the char index in the alphabet variable\n",
    "            new_index = (index_char + offset) %  len(alphabet)\n",
    "            # shift the variable to new index the modulo is used as the number must repeat cyclic data (like the alphabet, time, or days)\n",
    "            encrypted_text = encrypted_text + alphabet[new_index] # adding the new alphabet encrypted to the variable encrypted text\n",
    "    return encrypted_text"
   ]
  },
  {
   "cell_type": "code",
   "execution_count": 10,
   "id": "4b8d620d-022a-409a-a711-969e8390ccdd",
   "metadata": {},
   "outputs": [
    {
     "data": {
      "text/plain": [
       "'khoor zruog'"
      ]
     },
     "execution_count": 10,
     "metadata": {},
     "output_type": "execute_result"
    }
   ],
   "source": [
    "encrypted = ceaser(text, shift)\n",
    "encrypted"
   ]
  }
 ],
 "metadata": {
  "kernelspec": {
   "display_name": "Python 3 (ipykernel)",
   "language": "python",
   "name": "python3"
  },
  "language_info": {
   "codemirror_mode": {
    "name": "ipython",
    "version": 3
   },
   "file_extension": ".py",
   "mimetype": "text/x-python",
   "name": "python",
   "nbconvert_exporter": "python",
   "pygments_lexer": "ipython3",
   "version": "3.12.4"
  }
 },
 "nbformat": 4,
 "nbformat_minor": 5
}

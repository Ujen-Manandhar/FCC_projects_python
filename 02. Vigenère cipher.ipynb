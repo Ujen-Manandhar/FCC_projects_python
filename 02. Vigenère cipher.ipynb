{
 "cells": [
  {
   "cell_type": "markdown",
   "id": "815d56f9-e0d8-4214-835c-e1daaf8fd3f1",
   "metadata": {},
   "source": [
    "# Vigenère cipher\n",
    "What if the offset were different for each letter? That would be much more difficult to decrypt.\n",
    "Where the offset for each letter is determined by another text, called the key.formula:\n",
    "The plaintext(P) and key(K) are added modulo 26.\n",
    "Ei = (Pi + Ki) mod 26"
   ]
  },
  {
   "cell_type": "code",
   "execution_count": 105,
   "id": "fe1b19ff",
   "metadata": {},
   "outputs": [],
   "source": [
    "# take input from user: key and a plain text \n",
    "plain_text = input(\"Enter the text to encrypt and decrypt: \")\n",
    "user_key = input('Enter the key to encrypt and decrpt')"
   ]
  },
  {
   "cell_type": "code",
   "execution_count": 106,
   "id": "0f7e9165",
   "metadata": {},
   "outputs": [
    {
     "name": "stdout",
     "output_type": "stream",
     "text": [
      "happycoding\n"
     ]
    }
   ],
   "source": [
    "# converting the key to lower and replacing the space with no space\n",
    "key = user_key.lower().replace(' ', '')"
   ]
  },
  {
   "cell_type": "code",
   "execution_count": 107,
   "id": "46c191b6",
   "metadata": {},
   "outputs": [],
   "source": [
    "while True:\n",
    "    direction = int(input('Enter 1 to encrypt and -1 to decrypt'))\n",
    "    if (direction == 1) or (direction == -1):\n",
    "        break"
   ]
  },
  {
   "cell_type": "code",
   "execution_count": 108,
   "id": "914458bd",
   "metadata": {},
   "outputs": [],
   "source": [
    "# create an function that takes the message and key \n",
    "def vigenere_cipher(message, key, decrypt = 1):\n",
    "    # specify the alphabet to use and the variable to store the encrypted text\n",
    "    alphabet = 'abcdefghijklmnopqrstuvwxyz'\n",
    "    final_message = ''\n",
    "    key_index = 0\n",
    "    # identify the char in cipher and add it to the encrypted_text variable\n",
    "    for char in message.lower():\n",
    "        # remove spaces and add special char as it is\n",
    "        if not char.isalpha():\n",
    "            # the is.alpha method was used to identify alphabet and not to make the statement false in case of true\n",
    "            final_message += char \n",
    "\n",
    "        # create the chiper \n",
    "        else:\n",
    "            # identify the key index and wrap it around the text\n",
    "            key_string = key[key_index % len(key)]\n",
    "            #incrementing key_index to increase and cover the text\n",
    "            key_index += 1\n",
    "            # now to find the index of the plain_text\n",
    "            index_char = alphabet.find(char)\n",
    "            # now to find the index of the key \n",
    "            index_key = alphabet.find(key_string)\n",
    "            #identifying the new index for the encrypted/ decrypted text \n",
    "            new_char = alphabet[(index_char + index_key * decrypt) % len(alphabet)]\n",
    "            final_message += new_char\n",
    "            \n",
    "    return final_message"
   ]
  },
  {
   "cell_type": "code",
   "execution_count": 109,
   "id": "b8f77e31",
   "metadata": {},
   "outputs": [],
   "source": [
    "# creating a function to encrypt \n",
    "def encryption(message, key):\n",
    "    return vigenere_cipher(message, key)"
   ]
  },
  {
   "cell_type": "code",
   "execution_count": 110,
   "id": "111bd097",
   "metadata": {},
   "outputs": [],
   "source": [
    "# creating a function to dencrypt\n",
    "def dencryption(message, key):\n",
    "    return vigenere_cipher(message, key, -1)"
   ]
  },
  {
   "cell_type": "code",
   "execution_count": 111,
   "id": "bf8aaec7",
   "metadata": {},
   "outputs": [
    {
     "name": "stdout",
     "output_type": "stream",
     "text": [
      "\n",
      "Encryption Text : oeaam ycutq\n",
      "Key: \"Happy Coding\"\n"
     ]
    }
   ],
   "source": [
    "if direction == 1:\n",
    "    encrypt_text = encryption(plain_text, key)\n",
    "    print(f'\\nEncryption Text : {encrypt_text}\\nKey: \"{user_key}\"')\n",
    "elif direction == -1 :\n",
    "    dencrypt_text = dencryption(plain_text, key)\n",
    "    print(f'\\nDencryption Text : {dencrypt_text}\\nKey {user_key}')"
   ]
  }
 ],
 "metadata": {
  "kernelspec": {
   "display_name": "Python 3 (ipykernel)",
   "language": "python",
   "name": "python3"
  },
  "language_info": {
   "codemirror_mode": {
    "name": "ipython",
    "version": 3
   },
   "file_extension": ".py",
   "mimetype": "text/x-python",
   "name": "python",
   "nbconvert_exporter": "python",
   "pygments_lexer": "ipython3",
   "version": "3.12.4"
  }
 },
 "nbformat": 4,
 "nbformat_minor": 5
}
